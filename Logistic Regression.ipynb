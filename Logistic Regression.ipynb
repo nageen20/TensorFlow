{
 "cells": [
  {
   "cell_type": "code",
   "execution_count": 1,
   "metadata": {},
   "outputs": [],
   "source": [
    "import tensorflow as tf\n",
    "import pandas as pd\n",
    "import numpy as np\n",
    "import time\n",
    "from sklearn.datasets import load_iris\n",
    "from sklearn.model_selection import train_test_split\n",
    "import matplotlib.pyplot as plt"
   ]
  },
  {
   "cell_type": "code",
   "execution_count": 2,
   "metadata": {},
   "outputs": [],
   "source": [
    "iris = load_iris()"
   ]
  },
  {
   "cell_type": "code",
   "execution_count": 8,
   "metadata": {},
   "outputs": [],
   "source": [
    "iris_x, iris_y = iris.data[:-1,:], iris.target[:-1]\n",
    "iris_y = pd.get_dummies(iris_y).values\n",
    "trainX, testX, trainY, testY = train_test_split(iris_x, iris_y, test_size = 0.33, random_state = 42)"
   ]
  },
  {
   "cell_type": "code",
   "execution_count": 12,
   "metadata": {},
   "outputs": [],
   "source": [
    "numFeatures = trainX.shape[1]\n",
    "numLabels = trainY.shape[1]\n",
    "\n",
    "X = tf.placeholder(tf.float32, [None, numFeatures])\n",
    "yPred = tf.placeholder(tf.float32, [None, numLabels])"
   ]
  },
  {
   "cell_type": "code",
   "execution_count": 10,
   "metadata": {},
   "outputs": [],
   "source": [
    "#Randomly sample from a normal distribution withstandard deviation 0.01\n",
    "weights = tf.Variable(tf.random_normal([numFeatures, numLabels],\n",
    "                                      mean = 0,\n",
    "                                      stddev = 0.01,\n",
    "                                      name = 'weights'))\n",
    "\n",
    "bias = tf.Variable(tf.random_normal([1, numLabels],\n",
    "                                   mean = 0,\n",
    "                                   stddev = 0.01,\n",
    "                                   name = 'bias'))\n"
   ]
  },
  {
   "cell_type": "code",
   "execution_count": 14,
   "metadata": {},
   "outputs": [],
   "source": [
    "#Three component breakdown of the Logistic Regression equation\n",
    "apply_weights_OP = tf.matmul(X, weights, name='apply_weights')\n",
    "add_bias_OP = tf.add(apply_weights_OP, bias, name='add_bias')\n",
    "activation_OP = tf.nn.sigmoid(add_bias_OP, name='activation')"
   ]
  },
  {
   "cell_type": "code",
   "execution_count": 15,
   "metadata": {},
   "outputs": [],
   "source": [
    "numEpochs = 700\n",
    "learningRate = tf.train.exponential_decay(learning_rate=0.0008,\n",
    "                                         global_step = 1,\n",
    "                                         decay_steps=trainX.shape[0],\n",
    "                                         decay_rate=0.95,\n",
    "                                         staircase=True)"
   ]
  },
  {
   "cell_type": "code",
   "execution_count": 16,
   "metadata": {},
   "outputs": [],
   "source": [
    "#Define cost function - Squared Mean Error\n",
    "cost_OP = tf.nn.l2_loss(activation_OP-yPred, name=\"squared_error_cost\")\n",
    "\n",
    "#Define gradient descent\n",
    "training_OP = tf.train.GradientDescentOptimizer(learningRate).minimize(cost_OP)"
   ]
  },
  {
   "cell_type": "code",
   "execution_count": 17,
   "metadata": {},
   "outputs": [],
   "source": [
    "sess = tf.Session()\n",
    "\n",
    "init_OP = tf.global_variables_initializer()\n",
    "\n",
    "sess.run(init_OP)"
   ]
  },
  {
   "cell_type": "code",
   "execution_count": 18,
   "metadata": {},
   "outputs": [],
   "source": [
    "correct_predictions_OP =tf.equal(tf.argmax(activation_OP,1),tf.argmax(yPred,1))\n",
    "\n",
    "accuracy_OP = tf.reduce_mean(tf.cast(correct_predictions_OP, 'float'))\n",
    "\n",
    "activation_summary_OP = tf.summary.histogram('output', activation_OP)\n",
    "\n",
    "accuracy_summary_OP = tf.summary.scalar('accuracy',accuracy_OP)\n",
    "\n",
    "cost_summary_OP = tf.summary.scalar('cost',cost_OP)\n",
    "\n",
    "weightSummary = tf.summary.histogram('weights', weights.eval(session=sess))\n",
    "\n",
    "biasSummary = tf.summary.histogram('biases', bias.eval(session=sess))\n",
    "\n",
    "merged = tf.summary.merge([activation_summary_OP, accuracy_summary_OP, cost_summary_OP, weightSummary, biasSummary])\n",
    "\n",
    "writer = tf.summary.FileWriter('summary_logs', sess.graph)"
   ]
  },
  {
   "cell_type": "code",
   "execution_count": 21,
   "metadata": {},
   "outputs": [
    {
     "name": "stdout",
     "output_type": "stream",
     "text": [
      "step 0, training accuracy 0.909091, cost 14.834, change in cost 14.834\n",
      "step 10, training accuracy 0.909091, cost 14.8018, change in cost 0.0322189\n",
      "step 20, training accuracy 0.909091, cost 14.7701, change in cost 0.0317268\n",
      "step 30, training accuracy 0.909091, cost 14.7388, change in cost 0.031251\n",
      "step 40, training accuracy 0.909091, cost 14.7081, change in cost 0.0307817\n",
      "step 50, training accuracy 0.909091, cost 14.6777, change in cost 0.0303316\n",
      "step 60, training accuracy 0.909091, cost 14.6478, change in cost 0.0298901\n",
      "step 70, training accuracy 0.909091, cost 14.6184, change in cost 0.0294619\n",
      "step 80, training accuracy 0.909091, cost 14.5893, change in cost 0.0290451\n",
      "step 90, training accuracy 0.909091, cost 14.5607, change in cost 0.028635\n",
      "step 100, training accuracy 0.909091, cost 14.5325, change in cost 0.0282402\n",
      "step 110, training accuracy 0.909091, cost 14.5046, change in cost 0.0278511\n",
      "step 120, training accuracy 0.909091, cost 14.4771, change in cost 0.0274725\n",
      "step 130, training accuracy 0.919192, cost 14.45, change in cost 0.0271044\n",
      "step 140, training accuracy 0.919192, cost 14.4233, change in cost 0.0267429\n",
      "step 150, training accuracy 0.919192, cost 14.3969, change in cost 0.0263929\n",
      "step 160, training accuracy 0.919192, cost 14.3708, change in cost 0.0260458\n",
      "step 170, training accuracy 0.919192, cost 14.3451, change in cost 0.025713\n",
      "step 180, training accuracy 0.919192, cost 14.3197, change in cost 0.0253811\n",
      "step 190, training accuracy 0.919192, cost 14.2947, change in cost 0.0250616\n",
      "step 200, training accuracy 0.929293, cost 14.2699, change in cost 0.0247459\n",
      "step 210, training accuracy 0.929293, cost 14.2455, change in cost 0.0244389\n",
      "step 220, training accuracy 0.929293, cost 14.2214, change in cost 0.0241375\n",
      "step 230, training accuracy 0.929293, cost 14.1975, change in cost 0.0238419\n",
      "step 240, training accuracy 0.929293, cost 14.174, change in cost 0.0235529\n",
      "step 250, training accuracy 0.929293, cost 14.1507, change in cost 0.0232687\n",
      "step 260, training accuracy 0.929293, cost 14.1277, change in cost 0.022994\n",
      "step 270, training accuracy 0.939394, cost 14.105, change in cost 0.0227222\n",
      "step 280, training accuracy 0.939394, cost 14.0825, change in cost 0.0224543\n",
      "step 290, training accuracy 0.939394, cost 14.0603, change in cost 0.0221949\n",
      "step 300, training accuracy 0.939394, cost 14.0384, change in cost 0.0219374\n",
      "step 310, training accuracy 0.939394, cost 14.0167, change in cost 0.0216856\n",
      "step 320, training accuracy 0.939394, cost 13.9953, change in cost 0.0214405\n",
      "step 330, training accuracy 0.939394, cost 13.9741, change in cost 0.0211983\n",
      "step 340, training accuracy 0.939394, cost 13.9531, change in cost 0.0209608\n",
      "step 350, training accuracy 0.939394, cost 13.9324, change in cost 0.0207281\n",
      "step 360, training accuracy 0.939394, cost 13.9119, change in cost 0.0205002\n",
      "step 370, training accuracy 0.939394, cost 13.8916, change in cost 0.0202751\n",
      "step 380, training accuracy 0.939394, cost 13.8716, change in cost 0.0200539\n",
      "step 390, training accuracy 0.939394, cost 13.8517, change in cost 0.0198402\n",
      "step 400, training accuracy 0.939394, cost 13.8321, change in cost 0.0196247\n",
      "step 410, training accuracy 0.939394, cost 13.8127, change in cost 0.0194159\n",
      "step 420, training accuracy 0.939394, cost 13.7935, change in cost 0.0192127\n",
      "step 430, training accuracy 0.939394, cost 13.7745, change in cost 0.0190096\n",
      "step 440, training accuracy 0.939394, cost 13.7556, change in cost 0.0188103\n",
      "step 450, training accuracy 0.939394, cost 13.737, change in cost 0.0186167\n",
      "step 460, training accuracy 0.939394, cost 13.7186, change in cost 0.018425\n",
      "step 470, training accuracy 0.939394, cost 13.7004, change in cost 0.0182371\n",
      "step 480, training accuracy 0.939394, cost 13.6823, change in cost 0.0180492\n",
      "step 490, training accuracy 0.939394, cost 13.6644, change in cost 0.017868\n",
      "step 500, training accuracy 0.939394, cost 13.6468, change in cost 0.0176888\n",
      "step 510, training accuracy 0.939394, cost 13.6292, change in cost 0.0175133\n",
      "step 520, training accuracy 0.939394, cost 13.6119, change in cost 0.0173378\n",
      "step 530, training accuracy 0.939394, cost 13.5947, change in cost 0.0171671\n",
      "step 540, training accuracy 0.939394, cost 13.5777, change in cost 0.0170012\n",
      "step 550, training accuracy 0.939394, cost 13.5609, change in cost 0.0168324\n",
      "step 560, training accuracy 0.939394, cost 13.5442, change in cost 0.0166721\n",
      "step 570, training accuracy 0.939394, cost 13.5277, change in cost 0.01651\n",
      "step 580, training accuracy 0.939394, cost 13.5114, change in cost 0.0163507\n",
      "step 590, training accuracy 0.939394, cost 13.4952, change in cost 0.0161963\n",
      "step 600, training accuracy 0.939394, cost 13.4791, change in cost 0.0160437\n",
      "step 610, training accuracy 0.939394, cost 13.4632, change in cost 0.0158911\n",
      "step 620, training accuracy 0.939394, cost 13.4475, change in cost 0.0157452\n",
      "step 630, training accuracy 0.939394, cost 13.4319, change in cost 0.0155954\n",
      "step 640, training accuracy 0.939394, cost 13.4164, change in cost 0.0154543\n",
      "step 650, training accuracy 0.939394, cost 13.4011, change in cost 0.0153103\n",
      "step 660, training accuracy 0.939394, cost 13.386, change in cost 0.0151711\n",
      "step 670, training accuracy 0.939394, cost 13.3709, change in cost 0.0150328\n",
      "step 680, training accuracy 0.939394, cost 13.356, change in cost 0.0148945\n",
      "step 690, training accuracy 0.939394, cost 13.3413, change in cost 0.0147629\n",
      "final accuracy on test set: 1.0\n"
     ]
    }
   ],
   "source": [
    "cost = 0\n",
    "diff = 1\n",
    "epoch_values = []\n",
    "accuracy_values = []\n",
    "cost_values = []\n",
    "\n",
    "for i in range(numEpochs):\n",
    "    if i > 1 and diff < .0001:\n",
    "        print(\"change in cost %g; covergence.\"%diff)\n",
    "        break\n",
    "    else:\n",
    "        step = sess.run(training_OP, feed_dict={X: trainX, yPred:trainY})\n",
    "        \n",
    "        if i%10 == 0:\n",
    "            epoch_values.append(i)\n",
    "            \n",
    "            train_accuracy, newCost = sess.run([accuracy_OP, cost_OP], feed_dict={X: trainX, yPred: trainY} )\n",
    "            \n",
    "            accuracy_values.append(train_accuracy)\n",
    "            \n",
    "            cost_values.append(newCost)\n",
    "            \n",
    "            diff = abs(newCost - cost)\n",
    "            cost = newCost\n",
    "            \n",
    "            print(\"step %d, training accuracy %g, cost %g, change in cost %g\"%(i, train_accuracy, newCost, diff))\n",
    "            \n",
    "            \n",
    "#Prediction\n",
    "print(\"final accuracy on test set: %s\"%str(sess.run(accuracy_OP,\n",
    "                                                   feed_dict={X:testX,\n",
    "                                                             yPred:testY})))\n",
    "            \n",
    "        "
   ]
  },
  {
   "cell_type": "code",
   "execution_count": 22,
   "metadata": {},
   "outputs": [
    {
     "name": "stderr",
     "output_type": "stream",
     "text": [
      "C:\\Users\\Admin\\AppData\\Local\\Continuum\\anaconda3\\lib\\site-packages\\numpy\\core\\fromnumeric.py:2920: RuntimeWarning: Mean of empty slice.\n",
      "  out=out, **kwargs)\n",
      "C:\\Users\\Admin\\AppData\\Local\\Continuum\\anaconda3\\lib\\site-packages\\numpy\\core\\_methods.py:85: RuntimeWarning: invalid value encountered in double_scalars\n",
      "  ret = ret.dtype.type(ret / rcount)\n"
     ]
    },
    {
     "data": {
      "image/png": "[encoded data removed]",
      "text/plain": [
       "<Figure size 432x288 with 1 Axes>"
      ]
     },
     "metadata": {
      "needs_background": "light"
     },
     "output_type": "display_data"
    }
   ],
   "source": [
    "%matplotlib inline\n",
    "\n",
    "plt.plot([np.mean(cost_values[i-50:i]) for i in range(len(cost_values))])\n",
    "plt.show()"
   ]
  },
  {
   "cell_type": "code",
   "execution_count": null,
   "metadata": {},
   "outputs": [],
   "source": []
  }
 ],
 "metadata": {
  "kernelspec": {
   "display_name": "Python 3",
   "language": "python",
   "name": "python3"
  },
  "language_info": {
   "codemirror_mode": {
    "name": "ipython",
    "version": 3
   },
   "file_extension": ".py",
   "mimetype": "text/x-python",
   "name": "python",
   "nbconvert_exporter": "python",
   "pygments_lexer": "ipython3",
   "version": "3.6.5"
  }
 },
 "nbformat": 4,
 "nbformat_minor": 2
}
